{
 "cells": [
  {
   "cell_type": "markdown",
   "id": "restricted-praise",
   "metadata": {},
   "source": [
    "# PD1 Piotr Fic\n",
    "### Indeks: 298818\n",
    "### Import bibliotek"
   ]
  },
  {
   "cell_type": "code",
   "execution_count": 5,
   "id": "practical-sociology",
   "metadata": {},
   "outputs": [],
   "source": [
    "import numpy as np\n",
    "from numpy import random\n",
    "import math\n",
    "import pandas as pd\n",
    "import matplotlib.pyplot as plt"
   ]
  },
  {
   "cell_type": "markdown",
   "id": "analyzed-antibody",
   "metadata": {},
   "source": [
    "### Funkcja sigmoidalna"
   ]
  },
  {
   "cell_type": "code",
   "execution_count": 6,
   "id": "experimental-sacrifice",
   "metadata": {},
   "outputs": [],
   "source": [
    "def sigmoid(x):\n",
    "    return 1/(1 + math.exp(-x))"
   ]
  },
  {
   "cell_type": "markdown",
   "id": "isolated-ballot",
   "metadata": {},
   "source": [
    "### Funkcje pomocnicze"
   ]
  },
  {
   "cell_type": "code",
   "execution_count": 7,
   "id": "split-karaoke",
   "metadata": {},
   "outputs": [],
   "source": [
    "def MAE(predicted, real):\n",
    "    return np.mean(np.abs(predicted - real))"
   ]
  },
  {
   "cell_type": "code",
   "execution_count": 8,
   "id": "personalized-revision",
   "metadata": {},
   "outputs": [],
   "source": [
    "def predicted_real(predicted, real):\n",
    "    plt.scatter(real, predicted, c='blue')\n",
    "    p1 = max(max(predicted), max(real))\n",
    "    p2 = min(min(predicted), min(real))\n",
    "    plt.plot([p1, p2], [p1, p2], 'b-')\n",
    "    plt.xlabel('True values')\n",
    "    plt.ylabel('Predictions')\n",
    "    plt.title('Predictions visualization on test set')\n",
    "    plt.axis('equal')\n",
    "    plt.show()"
   ]
  },
  {
   "cell_type": "markdown",
   "id": "given-cameroon",
   "metadata": {},
   "source": [
    "## Bazowa implementacja sieci MLP\n",
    "### Klasa warstwy"
   ]
  },
  {
   "cell_type": "code",
   "execution_count": 9,
   "id": "simple-toolbox",
   "metadata": {},
   "outputs": [],
   "source": [
    "class Layer:\n",
    "        \n",
    "    def __init__(self, \n",
    "                 #Liczba neuronów w poprzedzającej i kolejnej warstwie\n",
    "                 input_size: int, \n",
    "                 output_size: int,\n",
    "                 #Domyślna funkcja aktywacyjna to sigmoid\n",
    "                 activation_fun = sigmoid, \n",
    "                 #Możliwe do ustawienia wagi i bias-y\n",
    "                 weights = None, \n",
    "                 biases = None):\n",
    "        \n",
    "        #Domyślne losowo wygenerowane wagi i bias-y jeśli nie zostały podane\n",
    "        d_weights = random.uniform(size = (input_size, output_size))\n",
    "        d_biases = random.uniform(size = output_size)\n",
    "        \n",
    "        #Wagi dla wszystkich neuronów z warstwy \n",
    "        self.weights = weights if weights is not None else d_weights\n",
    "        \n",
    "        #Stałe \"b\"\n",
    "        self.biases = biases if biases is not None else d_biases\n",
    "        \n",
    "        #Funkcja aktywacji, w tym miejscu dokonuję jej wektoryzacji do użycia na całą warstwę\n",
    "        v_activation_fun = np.vectorize(activation_fun)\n",
    "        self.activation_fun = v_activation_fun\n",
    "    \n",
    "    def forward(self, input):\n",
    "        #Przekształca input z poprzedniej warstwy przez wagi i funkcję aktywacji \n",
    "        #Zwraca output do przekazania kolejnej warstwie\n",
    "        return self.activation_fun(input @ self.weights + self.biases)"
   ]
  },
  {
   "cell_type": "markdown",
   "id": "extra-notification",
   "metadata": {},
   "source": [
    "### Klasa sieci MLP"
   ]
  },
  {
   "cell_type": "code",
   "execution_count": 10,
   "id": "numerical-ordinary",
   "metadata": {},
   "outputs": [],
   "source": [
    "class Network:\n",
    "    \n",
    "    def __init__(self, layers: list):\n",
    "        \n",
    "        #Warstwy\n",
    "        self.layers = layers\n",
    "        \n",
    "    def forward(self, X):\n",
    "        #Oblicza output na podstawie danych i parametrów warstw\n",
    "        output = X\n",
    "        for layer in self.layers:\n",
    "            output = layer.forward(output)\n",
    "        return output"
   ]
  },
  {
   "cell_type": "markdown",
   "id": "valued-creature",
   "metadata": {},
   "source": [
    "## Test na zadaniach regresji\n",
    "### Metodologia\n",
    "\n",
    "Dla wybranej architektury:\n",
    "\n",
    "- dopasowywanie ręczne wag na zbiorze treningowym\n",
    "- sprawdzenie miary MAE na zbiorze testowym\n",
    "\n",
    "Dla pozostałych do rozważenia architektur sprawdzenie działania przy losowych parametrach."
   ]
  },
  {
   "cell_type": "code",
   "execution_count": 11,
   "id": "white-october",
   "metadata": {},
   "outputs": [],
   "source": [
    "#Funkcje pmocnicze\n",
    "def normalize(x):\n",
    "    return (x - np.min(x)) / (np.max(x) - np.min(x))\n",
    "\n",
    "def prepear_data(df_train, df_test):\n",
    "    #Separacja wektorów cech i odpowiedzi\n",
    "    x_train, x_test = df_train.iloc[:, 1], df_test.iloc[:, 1]\n",
    "    x_train, x_test = np.array(x_train), np.array(x_test)\n",
    "    #Implementacja wymaga \"pionowego\" wektora cech\n",
    "    x_train.shape = (len(x_train), 1)\n",
    "    x_test.shape = (len(x_test), 1)\n",
    "    y_train, y_test = np.array(df_train.iloc[:, 2:3]), np.array(df_test.iloc[:, 2:3])\n",
    "    #Normalizacja\n",
    "    x_train, x_test = normalize(x_train), normalize(x_test)\n",
    "    y_train, y_test = normalize(y_train), normalize(y_test)\n",
    "    return x_train, y_train, x_test, y_test"
   ]
  },
  {
   "cell_type": "markdown",
   "id": "average-robinson",
   "metadata": {},
   "source": [
    "## Zbiór \"square-simple\""
   ]
  },
  {
   "cell_type": "code",
   "execution_count": 12,
   "id": "indonesian-louisville",
   "metadata": {},
   "outputs": [],
   "source": [
    "df1_train = pd.read_csv(\"./mio1/regression/square-simple-training.csv\")\n",
    "df1_test = pd.read_csv(\"./mio1/regression/square-simple-test.csv\")\n",
    "x_train, y_train, x_test, y_test = prepear_data(df1_train, df1_test)"
   ]
  },
  {
   "cell_type": "markdown",
   "id": "defined-wealth",
   "metadata": {},
   "source": [
    "### Architektura: 1 warstwa ukryta (5 neuronów)"
   ]
  },
  {
   "cell_type": "code",
   "execution_count": 13,
   "id": "supposed-amount",
   "metadata": {},
   "outputs": [],
   "source": [
    "#Utworzenie warst z dobranymi parametrami\n",
    "l1 = Layer(input_size=1, output_size=5, \n",
    "           weights=np.array([[0.75, -0.8, 0.4, -0.7, 0.4]]), \n",
    "           biases=np.array([-1, -0.9, -0.9, -1, 0.2]))\n",
    "\n",
    "l2 = Layer(input_size=5, output_size=1, \n",
    "           activation_fun= lambda x: x, \n",
    "           weights = np.array([40, 40, 35, 35, 0]).reshape(-1, 1), \n",
    "           biases = -41.25)\n",
    "\n",
    "#Konstrukcja obiektu sieci i predykcja na danych treningowych i testowych\n",
    "mlp = Network([l1, l2])\n",
    "pred_train = mlp.forward(x_train)\n",
    "pred_test = mlp.forward(x_test)"
   ]
  },
  {
   "cell_type": "code",
   "execution_count": 14,
   "id": "announced-quebec",
   "metadata": {},
   "outputs": [
    {
     "name": "stdout",
     "output_type": "stream",
     "text": [
      "0.06048353721655544\n",
      "0.0656071439087572\n"
     ]
    }
   ],
   "source": [
    "print(MAE(pred_train, y_train))\n",
    "print(MAE(pred_test, y_test))"
   ]
  },
  {
   "cell_type": "code",
   "execution_count": 15,
   "id": "magnetic-nerve",
   "metadata": {},
   "outputs": [
    {
     "data": {
      "image/png": "[encoded data removed]",
      "text/plain": [
       "<Figure size 432x288 with 1 Axes>"
      ]
     },
     "metadata": {
      "needs_background": "light"
     },
     "output_type": "display_data"
    }
   ],
   "source": [
    "predicted_real(pred_test, y_test)"
   ]
  },
  {
   "cell_type": "code",
   "execution_count": 16,
   "id": "regular-english",
   "metadata": {},
   "outputs": [
    {
     "name": "stdout",
     "output_type": "stream",
     "text": [
      "3.2423852681787686\n",
      "3.258373754113279\n"
     ]
    }
   ],
   "source": [
    "#Architektura: 1 warstwa (10 neuronów) losowe parametry\n",
    "l1 = Layer(1, 10)\n",
    "l2 = Layer(10, 1, activation_fun= lambda x: x)\n",
    "\n",
    "mlp = Network([l1, l2])\n",
    "pred_train = mlp.forward(x_train)\n",
    "pred_test = mlp.forward(x_test)\n",
    "\n",
    "print(MAE(pred_train, y_train))\n",
    "print(MAE(pred_test, y_test))"
   ]
  },
  {
   "cell_type": "code",
   "execution_count": 17,
   "id": "graduate-provincial",
   "metadata": {},
   "outputs": [
    {
     "name": "stdout",
     "output_type": "stream",
     "text": [
      "1.864354823723947\n",
      "1.8972596150447143\n"
     ]
    }
   ],
   "source": [
    "#Architektura: 2 warstwy (5 - 5 neuronów) losowe parametry\n",
    "l1 = Layer(1, 5)\n",
    "l2 = Layer(5, 5)\n",
    "l3 = Layer(5, 1, activation_fun= lambda x: x)\n",
    "\n",
    "mlp = Network([l1, l2, l3])\n",
    "pred_train = mlp.forward(x_train)\n",
    "pred_test = mlp.forward(x_test)\n",
    "\n",
    "print(MAE(pred_train, y_train))\n",
    "print(MAE(pred_test, y_test))"
   ]
  },
  {
   "cell_type": "markdown",
   "id": "mighty-theater",
   "metadata": {},
   "source": [
    "## Zbiór \"steps-large\""
   ]
  },
  {
   "cell_type": "code",
   "execution_count": 18,
   "id": "rural-looking",
   "metadata": {},
   "outputs": [],
   "source": [
    "df2_train = pd.read_csv(\"./mio1/regression/steps-large-training.csv\")\n",
    "df2_test = pd.read_csv(\"./mio1/regression/steps-large-test.csv\")\n",
    "x_train, y_train, x_test, y_test = prepear_data(df2_train, df2_test)"
   ]
  },
  {
   "cell_type": "markdown",
   "id": "narrative-arbor",
   "metadata": {},
   "source": [
    "### Architektura: 1 warstwa ukryta (5 neuronów)"
   ]
  },
  {
   "cell_type": "code",
   "execution_count": 19,
   "id": "threaded-sweet",
   "metadata": {},
   "outputs": [],
   "source": [
    "#Utworzenie warst z dobranymi parametrami\n",
    "l1 = Layer(input_size=1, output_size=5, \n",
    "           weights=np.array([[10, 10, 10, 10, 0]]), \n",
    "           biases=np.array([5, -5, -15, -25, 0]))\n",
    "\n",
    "l2 = Layer(input_size=5, output_size=1, \n",
    "           activation_fun= lambda x: x, \n",
    "           weights = np.array([2, 2, 2, 0, -2.5]).reshape(-1, 1), \n",
    "           biases = -1)\n",
    "\n",
    "#Konstrukcja obiektu sieci i predykcja na danych treningowych i testowych\n",
    "mlp = Network([l1, l2])\n",
    "pred_train = mlp.forward(x_train)\n",
    "pred_test = mlp.forward(x_test)"
   ]
  },
  {
   "cell_type": "code",
   "execution_count": 20,
   "id": "hydraulic-breakdown",
   "metadata": {},
   "outputs": [
    {
     "name": "stdout",
     "output_type": "stream",
     "text": [
      "0.4829064794117987\n",
      "0.4839129449712365\n"
     ]
    }
   ],
   "source": [
    "print(MAE(pred_train, y_train))\n",
    "print(MAE(pred_test, y_test))"
   ]
  },
  {
   "cell_type": "code",
   "execution_count": 21,
   "id": "radio-needle",
   "metadata": {},
   "outputs": [
    {
     "data": {
      "image/png": "[encoded data removed]",
      "text/plain": [
       "<Figure size 432x288 with 1 Axes>"
      ]
     },
     "metadata": {
      "needs_background": "light"
     },
     "output_type": "display_data"
    }
   ],
   "source": [
    "predicted_real(pred_test, y_test)"
   ]
  },
  {
   "cell_type": "code",
   "execution_count": 22,
   "id": "resistant-walnut",
   "metadata": {},
   "outputs": [
    {
     "name": "stdout",
     "output_type": "stream",
     "text": [
      "3.9242445047403067\n",
      "3.9222185130039366\n"
     ]
    }
   ],
   "source": [
    "#Architektura: 1 warstwa (10 neuronów) losowe parametry\n",
    "l1 = Layer(1, 10)\n",
    "l2 = Layer(10, 1, activation_fun= lambda x: x)\n",
    "\n",
    "mlp = Network([l1, l2])\n",
    "pred_train = mlp.forward(x_train)\n",
    "pred_test = mlp.forward(x_test)\n",
    "\n",
    "print(MAE(pred_train, y_train))\n",
    "print(MAE(pred_test, y_test))"
   ]
  },
  {
   "cell_type": "code",
   "execution_count": 23,
   "id": "secure-cambodia",
   "metadata": {},
   "outputs": [
    {
     "name": "stdout",
     "output_type": "stream",
     "text": [
      "3.5783828435504867\n",
      "3.5766297983139994\n"
     ]
    }
   ],
   "source": [
    "#Architektura: 2 warstwy (5 - 5 neuronów) losowe parametry\n",
    "l1 = Layer(1, 5)\n",
    "l2 = Layer(5, 5)\n",
    "l3 = Layer(5, 1, activation_fun= lambda x: x)\n",
    "\n",
    "mlp = Network([l1, l2, l3])\n",
    "pred_train = mlp.forward(x_train)\n",
    "pred_test = mlp.forward(x_test)\n",
    "\n",
    "print(MAE(pred_train, y_train))\n",
    "print(MAE(pred_test, y_test))"
   ]
  },
  {
   "cell_type": "markdown",
   "id": "chemical-proposition",
   "metadata": {},
   "source": [
    "### Podsumowanie\n",
    "\n",
    " - ręczne dobranie wag jest bardzo trudne\n",
    " - mimo to nawet ręcznie ustawione parametry są znacząco korzystniejsze od losowych\n",
    " - sieć MLP z tylko losowo zainicjalizowanymi parametrami w zasadzie nie nadaje się do użytku\n",
    " - implementacja pozostaje na razie możliwie najmniej skomplikowana mając na uwadze, że będzie intensywnie rozbudowywana"
   ]
  }
 ],
 "metadata": {
  "kernelspec": {
   "display_name": "Python 3",
   "language": "python",
   "name": "python3"
  },
  "language_info": {
   "codemirror_mode": {
    "name": "ipython",
    "version": 3
   },
   "file_extension": ".py",
   "mimetype": "text/x-python",
   "name": "python",
   "nbconvert_exporter": "python",
   "pygments_lexer": "ipython3",
   "version": "3.9.1"
  }
 },
 "nbformat": 4,
 "nbformat_minor": 5
}
