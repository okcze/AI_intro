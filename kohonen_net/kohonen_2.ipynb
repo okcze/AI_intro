{
 "cells": [
  {
   "cell_type": "markdown",
   "id": "criminal-galaxy",
   "metadata": {},
   "source": [
    "# Sieć Kohonena\n",
    "## LAB2\n",
    "## Piotr Fic"
   ]
  },
  {
   "cell_type": "code",
   "execution_count": 1,
   "id": "informational-squad",
   "metadata": {},
   "outputs": [],
   "source": [
    "import pandas as pd\n",
    "import numpy as np\n",
    "import matplotlib.pyplot as plt\n",
    "import random"
   ]
  },
  {
   "cell_type": "markdown",
   "id": "painful-techno",
   "metadata": {},
   "source": [
    "## Implementacja"
   ]
  },
  {
   "cell_type": "code",
   "execution_count": 2,
   "id": "afraid-nicholas",
   "metadata": {},
   "outputs": [],
   "source": [
    "class KohonenNet:\n",
    "    \n",
    "    def __init__(self, N, M, n, weights=\"hexagon\"):\n",
    "        self.M = M\n",
    "        self.N = N\n",
    "        self.n = n\n",
    "        if weights==\"hexagon\":\n",
    "            self.weights = self.hexagon_weights(self.N, self.M, self.n)\n",
    "        else:\n",
    "            self.weights = np.random.uniform(0, 1, size = (self.M, self.N, self.n))\n",
    "                \n",
    "    def fit(self, X, n_iter, neig_fun, neig_param, etha):\n",
    "        if neig_fun==\"gauss\":\n",
    "            n_f = self.gauss\n",
    "        elif neig_fun==\"mexico\":\n",
    "            n_f = self.mexico\n",
    "        else:\n",
    "            assert(\"Neighbourhood fun: gauss or mexico\")\n",
    "                \n",
    "        for i in range(1, n_iter+1):\n",
    "            rows = np.random.permutation(len(X))\n",
    "            for x in X[rows]:\n",
    "                #searching for min distance with x\n",
    "                min_dist = np.inf\n",
    "                min_id = -1\n",
    "                for r in range(self.N):\n",
    "                    for c in range(self.M):\n",
    "                        w = self.weights[r][c]\n",
    "                        if w is not None:\n",
    "                            dist = np.linalg.norm(x-w)\n",
    "                            if dist<min_dist:\n",
    "                                min_dist = dist\n",
    "                                min_id = np.array([r, c])\n",
    "                #updatng neighbourhood\n",
    "                for r in range(self.N):\n",
    "                    for c in range(self.M):\n",
    "                        w = self.weights[r][c]\n",
    "                        if w is not None:\n",
    "                            dist = np.linalg.norm(min_id-np.array([r, c]))\n",
    "                            update = n_f(neig_param*dist, i)*etha*np.exp(-i)*(x-w)\n",
    "                            self.weights[r][c] = w + update\n",
    "                \n",
    "    #neighbourhood functions\n",
    "    def gauss(self, d, i):\n",
    "        return np.exp(-1*(d)**2)\n",
    "    \n",
    "    def mexico(self, d, t):\n",
    "        return (2-4*d**2)*np.exp(-d**2)\n",
    "    \n",
    "    def find_classes(self, X, X_classes):\n",
    "        k = max(X_classes)+1\n",
    "        self.classes = np.full(shape=(self.N, self.M, k), fill_value=0)\n",
    "        for x, x_c in zip(X, X_classes):\n",
    "            #searching for min distance with x\n",
    "            min_dist = np.Inf\n",
    "            min_r = None\n",
    "            min_c = None\n",
    "            for i in range(self.N):\n",
    "                for j in range(self.M):\n",
    "                    w = self.weights[i][j]\n",
    "                    if w is not None:\n",
    "                        dist = np.linalg.norm(x-w)\n",
    "                        if dist<min_dist:\n",
    "                            min_dist = dist\n",
    "                            min_r = i\n",
    "                            min_c = j\n",
    "\n",
    "            #adding class count for closest neuron\n",
    "            self.classes[min_r][min_c][x_c] += 1\n",
    "                        \n",
    "        out = [[None]*self.M for i in range(self.N)]\n",
    "        for i in range(self.N):\n",
    "            for j in range(self.M):\n",
    "                if sum(self.classes[i][j])>0:\n",
    "                    out[i][j] = np.argmax(self.classes[i][j])\n",
    "        return out\n",
    "    \n",
    "    def hexagon_weights(self, N, M, dim):\n",
    "        weights = [[None]*M for i in range(N)]\n",
    "        r_flag = 1\n",
    "        c_flag = 1\n",
    "        for r in range(N):\n",
    "            for c in range(M):\n",
    "                if r_flag==1:\n",
    "                    if c_flag==2 or c_flag==3:\n",
    "                        weights[r][c] = np.random.uniform(0, 1, size=dim)\n",
    "                else:\n",
    "                    if c_flag==1 or c_flag==4:\n",
    "                        weights[r][c] = np.random.uniform(0, 1, size=dim)\n",
    "                if c_flag<4:\n",
    "                    c_flag += 1\n",
    "                else:\n",
    "                    c_flag = 1\n",
    "            if r_flag<2:\n",
    "                r_flag += 1\n",
    "            else:\n",
    "                r_flag = 1\n",
    "            c_flag = 1\n",
    "        return weights\n",
    "    \n",
    "    def find_points(self):\n",
    "        points = []\n",
    "        for r in range(self.N):\n",
    "            for c in range(self.M):\n",
    "                if self.weights[r][c] is not None:\n",
    "                    points.append(self.weights[r][c])\n",
    "        return np.array(points)\n",
    "    \n",
    "    def predict(self, x):\n",
    "        if self.classes is None:\n",
    "            assert(\"Find neurons class labels with find_classes!\")\n",
    "        res = None\n",
    "        min_dist = np.inf\n",
    "        for r in range(self.N):\n",
    "            for c in range(self.M):\n",
    "                w = self.weights[r][c]\n",
    "                if w is not None:\n",
    "                    dist = np.linalg.norm(x-w)\n",
    "                    if dist<min_dist:\n",
    "                        min_dist = dist\n",
    "                        res = np.argmax(self.classes[r][c])\n",
    "        return res"
   ]
  },
  {
   "cell_type": "code",
   "execution_count": 3,
   "id": "regional-guide",
   "metadata": {},
   "outputs": [],
   "source": [
    "def normalize(x):\n",
    "    return (x - np.min(x)) / (np.max(x) - np.min(x))\n",
    "def standardize(x):\n",
    "    return (x - np.mean(x)) / np.std(x)"
   ]
  },
  {
   "cell_type": "markdown",
   "id": "cellular-minnesota",
   "metadata": {},
   "source": [
    "## Testy działania\n",
    "### Metodologia\n",
    " - podział zbioru na część treningową i testową\n",
    " - nauczenie sieci na części treningowej (do doboru parametrów próbka danych)\n",
    " - nadanie neuronom klas według etykiet z części treningowej\n",
    " - zmierzenie ACC na części treningowej (dobór hiperparametrów)\n",
    " - klasyfikacja obserwacji ze zbioru testowego najlepszym modelem\n",
    "\n",
    "### df: \"MNIST\""
   ]
  },
  {
   "cell_type": "code",
   "execution_count": 27,
   "id": "standard-failing",
   "metadata": {},
   "outputs": [],
   "source": [
    "# Loading MNIST dataset\n",
    "from keras.datasets import mnist\n",
    "(train_X, train_y), (test_X, test_y) = mnist.load_data()\n",
    "train_X, test_X = train_X.reshape(-1, 784), test_X.reshape(-1, 784)\n",
    "# Scaling data to [0, 1]\n",
    "train_X, test_X = normalize(train_X), normalize(test_X) "
   ]
  },
  {
   "cell_type": "code",
   "execution_count": 10,
   "id": "touched-tennis",
   "metadata": {},
   "outputs": [],
   "source": [
    "# Params grid with sklearn for convinence\n",
    "from sklearn.model_selection import ParameterGrid\n",
    "param_grid = {\n",
    "    'top': [\"hexagon\", \"rectangle\"], \n",
    "    'neig_fun': [\"gauss\", \"mexico\"],\n",
    "    'neig_param': [0.1, 0.8, 0.9],\n",
    "    'n_iter': [10, 15, 20],\n",
    "    'etha': [0.01, 0.1, 1],   \n",
    "}\n",
    "grid = ParameterGrid(param_grid)"
   ]
  },
  {
   "cell_type": "code",
   "execution_count": 10,
   "id": "differential-atlantic",
   "metadata": {},
   "outputs": [],
   "source": [
    "# Subsample id (10%)\n",
    "ids = random.sample(range(len(train_y)), 6000)"
   ]
  },
  {
   "cell_type": "code",
   "execution_count": 16,
   "id": "removed-binding",
   "metadata": {},
   "outputs": [],
   "source": [
    "def pred_score(test_X, test_y, kn):\n",
    "    pred = []\n",
    "    for x in test_X:\n",
    "        pred.append(kn.predict(x))\n",
    "    return (pred==test_y).mean()"
   ]
  },
  {
   "cell_type": "code",
   "execution_count": null,
   "id": "general-shape",
   "metadata": {},
   "outputs": [],
   "source": [
    "# Fitting best hyperparameters on training set\n",
    "scores = []\n",
    "i = 0\n",
    "for p in grid:\n",
    "    i += 1\n",
    "    print(\"Next params no: \" + str(i))\n",
    "    kn = KohonenNet(5, 5, 784, weights=p['top'])\n",
    "    kn.fit(train_X[ids], n_iter=p['n_iter'], neig_fun=p['neig_fun'], neig_param=p['neig_param'], etha=p['etha'])\n",
    "    klasy = kn.find_classes(train_X[ids], train_y[ids])\n",
    "    scr = pred_score(train_X[ids], train_y[ids], kn)\n",
    "    scores.append([p, scr])\n",
    "    print(\"Achieved score: \" + str(scr))"
   ]
  },
  {
   "cell_type": "code",
   "execution_count": 25,
   "id": "reserved-generator",
   "metadata": {},
   "outputs": [],
   "source": [
    "# cv results to data frame\n",
    "scores = np.load(\"./cv_mnist.npy\", allow_pickle=True)\n",
    "cv_mnist = []\n",
    "for r in scores:\n",
    "    cv_mnist.append(np.append(r[1], list(r[0].values())))\n",
    "df_mnist = pd.DataFrame(cv_mnist, columns=[\"acc\", \"etha\", \"n_iter\", \"neig_fun\", \"neig_param\", \"top\"])"
   ]
  },
  {
   "cell_type": "markdown",
   "id": "mediterranean-marks",
   "metadata": {},
   "source": [
    "### Najlepsze parametry\n",
    "#### Topologia: hexagon"
   ]
  },
  {
   "cell_type": "code",
   "execution_count": 32,
   "id": "broken-winner",
   "metadata": {},
   "outputs": [
    {
     "data": {
      "text/html": [
       "<div>\n",
       "<style scoped>\n",
       "    .dataframe tbody tr th:only-of-type {\n",
       "        vertical-align: middle;\n",
       "    }\n",
       "\n",
       "    .dataframe tbody tr th {\n",
       "        vertical-align: top;\n",
       "    }\n",
       "\n",
       "    .dataframe thead th {\n",
       "        text-align: right;\n",
       "    }\n",
       "</style>\n",
       "<table border=\"1\" class=\"dataframe\">\n",
       "  <thead>\n",
       "    <tr style=\"text-align: right;\">\n",
       "      <th></th>\n",
       "      <th>acc</th>\n",
       "      <th>etha</th>\n",
       "      <th>n_iter</th>\n",
       "      <th>neig_fun</th>\n",
       "      <th>neig_param</th>\n",
       "      <th>top</th>\n",
       "    </tr>\n",
       "  </thead>\n",
       "  <tbody>\n",
       "    <tr>\n",
       "      <th>76</th>\n",
       "      <td>0.5918333333333333</td>\n",
       "      <td>1</td>\n",
       "      <td>10</td>\n",
       "      <td>gauss</td>\n",
       "      <td>0.9</td>\n",
       "      <td>hexagon</td>\n",
       "    </tr>\n",
       "    <tr>\n",
       "      <th>40</th>\n",
       "      <td>0.59</td>\n",
       "      <td>0.1</td>\n",
       "      <td>10</td>\n",
       "      <td>gauss</td>\n",
       "      <td>0.9</td>\n",
       "      <td>hexagon</td>\n",
       "    </tr>\n",
       "    <tr>\n",
       "      <th>88</th>\n",
       "      <td>0.5846666666666667</td>\n",
       "      <td>1</td>\n",
       "      <td>15</td>\n",
       "      <td>gauss</td>\n",
       "      <td>0.9</td>\n",
       "      <td>hexagon</td>\n",
       "    </tr>\n",
       "    <tr>\n",
       "      <th>100</th>\n",
       "      <td>0.5763333333333334</td>\n",
       "      <td>1</td>\n",
       "      <td>20</td>\n",
       "      <td>gauss</td>\n",
       "      <td>0.9</td>\n",
       "      <td>hexagon</td>\n",
       "    </tr>\n",
       "    <tr>\n",
       "      <th>52</th>\n",
       "      <td>0.5746666666666667</td>\n",
       "      <td>0.1</td>\n",
       "      <td>15</td>\n",
       "      <td>gauss</td>\n",
       "      <td>0.9</td>\n",
       "      <td>hexagon</td>\n",
       "    </tr>\n",
       "  </tbody>\n",
       "</table>\n",
       "</div>"
      ],
      "text/plain": [
       "                    acc etha n_iter neig_fun neig_param      top\n",
       "76   0.5918333333333333    1     10    gauss        0.9  hexagon\n",
       "40                 0.59  0.1     10    gauss        0.9  hexagon\n",
       "88   0.5846666666666667    1     15    gauss        0.9  hexagon\n",
       "100  0.5763333333333334    1     20    gauss        0.9  hexagon\n",
       "52   0.5746666666666667  0.1     15    gauss        0.9  hexagon"
      ]
     },
     "execution_count": 32,
     "metadata": {},
     "output_type": "execute_result"
    }
   ],
   "source": [
    "df_mnist[df_mnist.top == \"hexagon\"].sort_values(\"acc\", ascending=False)[0:5]"
   ]
  },
  {
   "cell_type": "markdown",
   "id": "medical-application",
   "metadata": {},
   "source": [
    "#### Topologia: rectangle"
   ]
  },
  {
   "cell_type": "code",
   "execution_count": 33,
   "id": "median-turning",
   "metadata": {},
   "outputs": [
    {
     "data": {
      "text/html": [
       "<div>\n",
       "<style scoped>\n",
       "    .dataframe tbody tr th:only-of-type {\n",
       "        vertical-align: middle;\n",
       "    }\n",
       "\n",
       "    .dataframe tbody tr th {\n",
       "        vertical-align: top;\n",
       "    }\n",
       "\n",
       "    .dataframe thead th {\n",
       "        text-align: right;\n",
       "    }\n",
       "</style>\n",
       "<table border=\"1\" class=\"dataframe\">\n",
       "  <thead>\n",
       "    <tr style=\"text-align: right;\">\n",
       "      <th></th>\n",
       "      <th>acc</th>\n",
       "      <th>etha</th>\n",
       "      <th>n_iter</th>\n",
       "      <th>neig_fun</th>\n",
       "      <th>neig_param</th>\n",
       "      <th>top</th>\n",
       "    </tr>\n",
       "  </thead>\n",
       "  <tbody>\n",
       "    <tr>\n",
       "      <th>65</th>\n",
       "      <td>0.6333333333333333</td>\n",
       "      <td>0.1</td>\n",
       "      <td>20</td>\n",
       "      <td>gauss</td>\n",
       "      <td>0.9</td>\n",
       "      <td>rectangle</td>\n",
       "    </tr>\n",
       "    <tr>\n",
       "      <th>51</th>\n",
       "      <td>0.6305</td>\n",
       "      <td>0.1</td>\n",
       "      <td>15</td>\n",
       "      <td>gauss</td>\n",
       "      <td>0.8</td>\n",
       "      <td>rectangle</td>\n",
       "    </tr>\n",
       "    <tr>\n",
       "      <th>41</th>\n",
       "      <td>0.6226666666666667</td>\n",
       "      <td>0.1</td>\n",
       "      <td>10</td>\n",
       "      <td>gauss</td>\n",
       "      <td>0.9</td>\n",
       "      <td>rectangle</td>\n",
       "    </tr>\n",
       "    <tr>\n",
       "      <th>101</th>\n",
       "      <td>0.6218333333333333</td>\n",
       "      <td>1</td>\n",
       "      <td>20</td>\n",
       "      <td>gauss</td>\n",
       "      <td>0.9</td>\n",
       "      <td>rectangle</td>\n",
       "    </tr>\n",
       "    <tr>\n",
       "      <th>89</th>\n",
       "      <td>0.6121666666666666</td>\n",
       "      <td>1</td>\n",
       "      <td>15</td>\n",
       "      <td>gauss</td>\n",
       "      <td>0.9</td>\n",
       "      <td>rectangle</td>\n",
       "    </tr>\n",
       "  </tbody>\n",
       "</table>\n",
       "</div>"
      ],
      "text/plain": [
       "                    acc etha n_iter neig_fun neig_param        top\n",
       "65   0.6333333333333333  0.1     20    gauss        0.9  rectangle\n",
       "51               0.6305  0.1     15    gauss        0.8  rectangle\n",
       "41   0.6226666666666667  0.1     10    gauss        0.9  rectangle\n",
       "101  0.6218333333333333    1     20    gauss        0.9  rectangle\n",
       "89   0.6121666666666666    1     15    gauss        0.9  rectangle"
      ]
     },
     "execution_count": 33,
     "metadata": {},
     "output_type": "execute_result"
    }
   ],
   "source": [
    "df_mnist[df_mnist.top == \"rectangle\"].sort_values(\"acc\", ascending=False)[0:5]"
   ]
  },
  {
   "cell_type": "markdown",
   "id": "billion-rendering",
   "metadata": {},
   "source": [
    "### Ewaluacja na pełnym zbiorze"
   ]
  },
  {
   "cell_type": "code",
   "execution_count": 34,
   "id": "heavy-fellow",
   "metadata": {},
   "outputs": [],
   "source": [
    "# training on full train set, and scoring on test 5-times\n",
    "acc = []\n",
    "for i in range(5):\n",
    "    kn_hex = KohonenNet(5, 5, 784, weights=\"hexagon\")\n",
    "    kn_hex.fit(train_X, n_iter=10, neig_fun=\"gauss\", neig_param=0.9, etha=1)\n",
    "    kn_rec = KohonenNet(5, 5, 784, weights=\"rectangle\")\n",
    "    kn_rec.fit(train_X, n_iter=20, neig_fun=\"gauss\", neig_param=0.9, etha=0.1)\n",
    "    kn_hex.find_classes(train_X, train_y)\n",
    "    kn_rec.find_classes(train_X, train_y)\n",
    "    scr_hex = pred_score(test_X, test_y, kn_hex)\n",
    "    scr_rec = pred_score(test_X, test_y, kn_rec)\n",
    "    acc.append([scr_hex, scr_rec])\n",
    "mnist_test_acc = pd.DataFrame(acc, columns=[\"acc_hex\", \"acc_rec\"])"
   ]
  },
  {
   "cell_type": "markdown",
   "id": "nasty-villa",
   "metadata": {},
   "source": [
    "#### MNIST: wyniki zbiór testowy"
   ]
  },
  {
   "cell_type": "code",
   "execution_count": 2,
   "id": "proof-globe",
   "metadata": {},
   "outputs": [
    {
     "data": {
      "text/html": [
       "<div>\n",
       "<style scoped>\n",
       "    .dataframe tbody tr th:only-of-type {\n",
       "        vertical-align: middle;\n",
       "    }\n",
       "\n",
       "    .dataframe tbody tr th {\n",
       "        vertical-align: top;\n",
       "    }\n",
       "\n",
       "    .dataframe thead th {\n",
       "        text-align: right;\n",
       "    }\n",
       "</style>\n",
       "<table border=\"1\" class=\"dataframe\">\n",
       "  <thead>\n",
       "    <tr style=\"text-align: right;\">\n",
       "      <th></th>\n",
       "      <th>acc_hex</th>\n",
       "      <th>acc_rec</th>\n",
       "    </tr>\n",
       "  </thead>\n",
       "  <tbody>\n",
       "    <tr>\n",
       "      <th>count</th>\n",
       "      <td>5.000000</td>\n",
       "      <td>5.000000</td>\n",
       "    </tr>\n",
       "    <tr>\n",
       "      <th>mean</th>\n",
       "      <td>0.583560</td>\n",
       "      <td>0.625420</td>\n",
       "    </tr>\n",
       "    <tr>\n",
       "      <th>std</th>\n",
       "      <td>0.021584</td>\n",
       "      <td>0.016192</td>\n",
       "    </tr>\n",
       "    <tr>\n",
       "      <th>min</th>\n",
       "      <td>0.547500</td>\n",
       "      <td>0.609000</td>\n",
       "    </tr>\n",
       "    <tr>\n",
       "      <th>25%</th>\n",
       "      <td>0.581700</td>\n",
       "      <td>0.609100</td>\n",
       "    </tr>\n",
       "    <tr>\n",
       "      <th>50%</th>\n",
       "      <td>0.588900</td>\n",
       "      <td>0.626700</td>\n",
       "    </tr>\n",
       "    <tr>\n",
       "      <th>75%</th>\n",
       "      <td>0.599400</td>\n",
       "      <td>0.638300</td>\n",
       "    </tr>\n",
       "    <tr>\n",
       "      <th>max</th>\n",
       "      <td>0.600300</td>\n",
       "      <td>0.644000</td>\n",
       "    </tr>\n",
       "  </tbody>\n",
       "</table>\n",
       "</div>"
      ],
      "text/plain": [
       "        acc_hex   acc_rec\n",
       "count  5.000000  5.000000\n",
       "mean   0.583560  0.625420\n",
       "std    0.021584  0.016192\n",
       "min    0.547500  0.609000\n",
       "25%    0.581700  0.609100\n",
       "50%    0.588900  0.626700\n",
       "75%    0.599400  0.638300\n",
       "max    0.600300  0.644000"
      ]
     },
     "execution_count": 2,
     "metadata": {},
     "output_type": "execute_result"
    }
   ],
   "source": [
    "#mnist_test_acc.to_csv(\"mnist_test_acc.csv\")\n",
    "mnist_test_acc = pd.read_csv(\"mnist_test_acc.csv\", index_col=0)\n",
    "mnist_test_acc.describe()"
   ]
  },
  {
   "cell_type": "code",
   "execution_count": 4,
   "id": "rolled-measurement",
   "metadata": {},
   "outputs": [
    {
     "data": {
      "image/png": "[encoded data removed]",
      "text/plain": [
       "<Figure size 432x288 with 1 Axes>"
      ]
     },
     "metadata": {
      "needs_background": "light"
     },
     "output_type": "display_data"
    }
   ],
   "source": [
    "mnist_test_acc.boxplot()\n",
    "plt.title(\"Porównanie wyników względem topologii.\")\n",
    "plt.show()"
   ]
  },
  {
   "cell_type": "markdown",
   "id": "structured-spokesman",
   "metadata": {},
   "source": [
    "### Ocena\n",
    "- dla obu topologii lepszą funkcją sąsiedztwa była funkcja gaussowska\n",
    "- sieć osiągnęła lepsze wyniki w topologii prostokątnej\n",
    "- wyniki dla obu wersji były stabilne"
   ]
  },
  {
   "cell_type": "markdown",
   "id": "speaking-theta",
   "metadata": {},
   "source": [
    "### df: \"Human Activity\""
   ]
  },
  {
   "cell_type": "code",
   "execution_count": 34,
   "id": "liked-thanksgiving",
   "metadata": {},
   "outputs": [],
   "source": [
    "# Loading data\n",
    "train_X = pd.read_csv(\"./UCI HAR Dataset/UCI HAR Dataset/train/X_train.txt\", sep=\"\\s+\", header=None)\n",
    "train_y = pd.read_csv(\"./UCI HAR Dataset/UCI HAR Dataset/train/y_train.txt\", sep=\"\\s+\", header=None)\n",
    "test_X = pd.read_csv(\"./UCI HAR Dataset/UCI HAR Dataset/test/X_test.txt\", sep=\"\\s+\", header=None)\n",
    "test_y = pd.read_csv(\"./UCI HAR Dataset/UCI HAR Dataset/test/y_test.txt\", sep=\"\\s+\", header=None)\n",
    "# Scaling data to [0, 1]\n",
    "train_X, test_X = normalize(train_X), normalize(test_X)\n",
    "train_X, test_X = np.array(train_X), np.array(test_X)\n",
    "train_y, test_y = np.array(train_y)[0], np.array(test_y)[0]"
   ]
  },
  {
   "cell_type": "code",
   "execution_count": null,
   "id": "educated-candle",
   "metadata": {},
   "outputs": [],
   "source": [
    "# Fitting best hyperparameters on training set\n",
    "scores = []\n",
    "i = 0\n",
    "for p in grid:\n",
    "    i += 1\n",
    "    print(\"Next params no: \" + str(i))\n",
    "    kn = KohonenNet(5, 5, 561, weights=p['top'])\n",
    "    kn.fit(train_X, n_iter=p['n_iter'], neig_fun=p['neig_fun'], neig_param=p['neig_param'], etha=p['etha'])\n",
    "    klasy = kn.find_classes(train_X, train_y)\n",
    "    scr = pred_score(train_X, train_y, kn)\n",
    "    scores.append([p, scr])\n",
    "    print(\"Achieved score: \" + str(scr))"
   ]
  },
  {
   "cell_type": "code",
   "execution_count": 37,
   "id": "environmental-european",
   "metadata": {},
   "outputs": [],
   "source": [
    "#np.save(\"cv_uci\", scores)\n",
    "# cv results to data frame\n",
    "scores = np.load(\"./cv_uci.npy\", allow_pickle=True)\n",
    "cv_uci = []\n",
    "for r in scores:\n",
    "    cv_uci.append(np.append(r[1], list(r[0].values())))\n",
    "df_uci = pd.DataFrame(cv_uci, columns=[\"acc\", \"etha\", \"n_iter\", \"neig_fun\", \"neig_param\", \"top\"])"
   ]
  },
  {
   "cell_type": "markdown",
   "id": "foreign-seminar",
   "metadata": {},
   "source": [
    "### Najlepsze parametry\n",
    "#### Topologia: hexagon"
   ]
  },
  {
   "cell_type": "code",
   "execution_count": 38,
   "id": "moral-sheriff",
   "metadata": {},
   "outputs": [
    {
     "data": {
      "text/html": [
       "<div>\n",
       "<style scoped>\n",
       "    .dataframe tbody tr th:only-of-type {\n",
       "        vertical-align: middle;\n",
       "    }\n",
       "\n",
       "    .dataframe tbody tr th {\n",
       "        vertical-align: top;\n",
       "    }\n",
       "\n",
       "    .dataframe thead th {\n",
       "        text-align: right;\n",
       "    }\n",
       "</style>\n",
       "<table border=\"1\" class=\"dataframe\">\n",
       "  <thead>\n",
       "    <tr style=\"text-align: right;\">\n",
       "      <th></th>\n",
       "      <th>acc</th>\n",
       "      <th>etha</th>\n",
       "      <th>n_iter</th>\n",
       "      <th>neig_fun</th>\n",
       "      <th>neig_param</th>\n",
       "      <th>top</th>\n",
       "    </tr>\n",
       "  </thead>\n",
       "  <tbody>\n",
       "    <tr>\n",
       "      <th>68</th>\n",
       "      <td>1.0</td>\n",
       "      <td>0.1</td>\n",
       "      <td>20</td>\n",
       "      <td>mexico</td>\n",
       "      <td>0.8</td>\n",
       "      <td>hexagon</td>\n",
       "    </tr>\n",
       "    <tr>\n",
       "      <th>22</th>\n",
       "      <td>1.0</td>\n",
       "      <td>0.01</td>\n",
       "      <td>15</td>\n",
       "      <td>mexico</td>\n",
       "      <td>0.9</td>\n",
       "      <td>hexagon</td>\n",
       "    </tr>\n",
       "    <tr>\n",
       "      <th>32</th>\n",
       "      <td>0.999727965179543</td>\n",
       "      <td>0.01</td>\n",
       "      <td>20</td>\n",
       "      <td>mexico</td>\n",
       "      <td>0.8</td>\n",
       "      <td>hexagon</td>\n",
       "    </tr>\n",
       "    <tr>\n",
       "      <th>8</th>\n",
       "      <td>0.9980957562568009</td>\n",
       "      <td>0.01</td>\n",
       "      <td>10</td>\n",
       "      <td>mexico</td>\n",
       "      <td>0.8</td>\n",
       "      <td>hexagon</td>\n",
       "    </tr>\n",
       "    <tr>\n",
       "      <th>20</th>\n",
       "      <td>0.9960554951033732</td>\n",
       "      <td>0.01</td>\n",
       "      <td>15</td>\n",
       "      <td>mexico</td>\n",
       "      <td>0.8</td>\n",
       "      <td>hexagon</td>\n",
       "    </tr>\n",
       "  </tbody>\n",
       "</table>\n",
       "</div>"
      ],
      "text/plain": [
       "                   acc  etha n_iter neig_fun neig_param      top\n",
       "68                 1.0   0.1     20   mexico        0.8  hexagon\n",
       "22                 1.0  0.01     15   mexico        0.9  hexagon\n",
       "32   0.999727965179543  0.01     20   mexico        0.8  hexagon\n",
       "8   0.9980957562568009  0.01     10   mexico        0.8  hexagon\n",
       "20  0.9960554951033732  0.01     15   mexico        0.8  hexagon"
      ]
     },
     "execution_count": 38,
     "metadata": {},
     "output_type": "execute_result"
    }
   ],
   "source": [
    "df_uci[df_uci.top == \"hexagon\"].sort_values(\"acc\", ascending=False)[0:5]"
   ]
  },
  {
   "cell_type": "markdown",
   "id": "accepting-strain",
   "metadata": {},
   "source": [
    "#### Topologia: rectangle"
   ]
  },
  {
   "cell_type": "code",
   "execution_count": 39,
   "id": "hybrid-martin",
   "metadata": {},
   "outputs": [
    {
     "data": {
      "text/html": [
       "<div>\n",
       "<style scoped>\n",
       "    .dataframe tbody tr th:only-of-type {\n",
       "        vertical-align: middle;\n",
       "    }\n",
       "\n",
       "    .dataframe tbody tr th {\n",
       "        vertical-align: top;\n",
       "    }\n",
       "\n",
       "    .dataframe thead th {\n",
       "        text-align: right;\n",
       "    }\n",
       "</style>\n",
       "<table border=\"1\" class=\"dataframe\">\n",
       "  <thead>\n",
       "    <tr style=\"text-align: right;\">\n",
       "      <th></th>\n",
       "      <th>acc</th>\n",
       "      <th>etha</th>\n",
       "      <th>n_iter</th>\n",
       "      <th>neig_fun</th>\n",
       "      <th>neig_param</th>\n",
       "      <th>top</th>\n",
       "    </tr>\n",
       "  </thead>\n",
       "  <tbody>\n",
       "    <tr>\n",
       "      <th>81</th>\n",
       "      <td>1.0</td>\n",
       "      <td>1</td>\n",
       "      <td>10</td>\n",
       "      <td>mexico</td>\n",
       "      <td>0.8</td>\n",
       "      <td>rectangle</td>\n",
       "    </tr>\n",
       "    <tr>\n",
       "      <th>93</th>\n",
       "      <td>1.0</td>\n",
       "      <td>1</td>\n",
       "      <td>15</td>\n",
       "      <td>mexico</td>\n",
       "      <td>0.8</td>\n",
       "      <td>rectangle</td>\n",
       "    </tr>\n",
       "    <tr>\n",
       "      <th>21</th>\n",
       "      <td>0.999727965179543</td>\n",
       "      <td>0.01</td>\n",
       "      <td>15</td>\n",
       "      <td>mexico</td>\n",
       "      <td>0.8</td>\n",
       "      <td>rectangle</td>\n",
       "    </tr>\n",
       "    <tr>\n",
       "      <th>33</th>\n",
       "      <td>0.9949673558215452</td>\n",
       "      <td>0.01</td>\n",
       "      <td>20</td>\n",
       "      <td>mexico</td>\n",
       "      <td>0.8</td>\n",
       "      <td>rectangle</td>\n",
       "    </tr>\n",
       "    <tr>\n",
       "      <th>23</th>\n",
       "      <td>0.9948313384113167</td>\n",
       "      <td>0.01</td>\n",
       "      <td>15</td>\n",
       "      <td>mexico</td>\n",
       "      <td>0.9</td>\n",
       "      <td>rectangle</td>\n",
       "    </tr>\n",
       "  </tbody>\n",
       "</table>\n",
       "</div>"
      ],
      "text/plain": [
       "                   acc  etha n_iter neig_fun neig_param        top\n",
       "81                 1.0     1     10   mexico        0.8  rectangle\n",
       "93                 1.0     1     15   mexico        0.8  rectangle\n",
       "21   0.999727965179543  0.01     15   mexico        0.8  rectangle\n",
       "33  0.9949673558215452  0.01     20   mexico        0.8  rectangle\n",
       "23  0.9948313384113167  0.01     15   mexico        0.9  rectangle"
      ]
     },
     "execution_count": 39,
     "metadata": {},
     "output_type": "execute_result"
    }
   ],
   "source": [
    "df_uci[df_uci.top == \"rectangle\"].sort_values(\"acc\", ascending=False)[0:5]"
   ]
  },
  {
   "cell_type": "markdown",
   "id": "compound-machine",
   "metadata": {},
   "source": [
    "### Ewaluacja na zbiorze testowym"
   ]
  },
  {
   "cell_type": "code",
   "execution_count": null,
   "id": "korean-statistics",
   "metadata": {},
   "outputs": [],
   "source": [
    "# training on full train set, and scoring on test 5-times\n",
    "acc = []\n",
    "for i in range(5):\n",
    "    print(\"Iter: \" + str(i))\n",
    "    kn_hex = KohonenNet(5, 5, 561, weights=\"hexagon\")\n",
    "    kn_hex.fit(train_X, n_iter=20, neig_fun=\"mexico\", neig_param=0.8, etha=0.1)\n",
    "    kn_rec = KohonenNet(5, 5, 561, weights=\"rectangle\")\n",
    "    kn_rec.fit(train_X, n_iter=10, neig_fun=\"mexico\", neig_param=0.8, etha=1)\n",
    "    kn_hex.find_classes(train_X, train_y)\n",
    "    kn_rec.find_classes(train_X, train_y)\n",
    "    scr_hex = pred_score(test_X, test_y, kn_hex)\n",
    "    scr_rec = pred_score(test_X, test_y, kn_rec)\n",
    "    acc.append([scr_hex, scr_rec])\n",
    "uci_test_acc = pd.DataFrame(acc, columns=[\"acc_hex\", \"acc_rec\"])\n",
    "uci_test_acc.to_csv(\"uci_test_acc.csv\")"
   ]
  },
  {
   "cell_type": "code",
   "execution_count": 5,
   "id": "nervous-parent",
   "metadata": {},
   "outputs": [
    {
     "data": {
      "text/html": [
       "<div>\n",
       "<style scoped>\n",
       "    .dataframe tbody tr th:only-of-type {\n",
       "        vertical-align: middle;\n",
       "    }\n",
       "\n",
       "    .dataframe tbody tr th {\n",
       "        vertical-align: top;\n",
       "    }\n",
       "\n",
       "    .dataframe thead th {\n",
       "        text-align: right;\n",
       "    }\n",
       "</style>\n",
       "<table border=\"1\" class=\"dataframe\">\n",
       "  <thead>\n",
       "    <tr style=\"text-align: right;\">\n",
       "      <th></th>\n",
       "      <th>acc_hex</th>\n",
       "      <th>acc_rec</th>\n",
       "    </tr>\n",
       "  </thead>\n",
       "  <tbody>\n",
       "    <tr>\n",
       "      <th>count</th>\n",
       "      <td>5.000000</td>\n",
       "      <td>5.000000</td>\n",
       "    </tr>\n",
       "    <tr>\n",
       "      <th>mean</th>\n",
       "      <td>0.714354</td>\n",
       "      <td>0.619138</td>\n",
       "    </tr>\n",
       "    <tr>\n",
       "      <th>std</th>\n",
       "      <td>0.260758</td>\n",
       "      <td>0.212908</td>\n",
       "    </tr>\n",
       "    <tr>\n",
       "      <th>min</th>\n",
       "      <td>0.523923</td>\n",
       "      <td>0.523923</td>\n",
       "    </tr>\n",
       "    <tr>\n",
       "      <th>25%</th>\n",
       "      <td>0.523923</td>\n",
       "      <td>0.523923</td>\n",
       "    </tr>\n",
       "    <tr>\n",
       "      <th>50%</th>\n",
       "      <td>0.523923</td>\n",
       "      <td>0.523923</td>\n",
       "    </tr>\n",
       "    <tr>\n",
       "      <th>75%</th>\n",
       "      <td>1.000000</td>\n",
       "      <td>0.523923</td>\n",
       "    </tr>\n",
       "    <tr>\n",
       "      <th>max</th>\n",
       "      <td>1.000000</td>\n",
       "      <td>1.000000</td>\n",
       "    </tr>\n",
       "  </tbody>\n",
       "</table>\n",
       "</div>"
      ],
      "text/plain": [
       "        acc_hex   acc_rec\n",
       "count  5.000000  5.000000\n",
       "mean   0.714354  0.619138\n",
       "std    0.260758  0.212908\n",
       "min    0.523923  0.523923\n",
       "25%    0.523923  0.523923\n",
       "50%    0.523923  0.523923\n",
       "75%    1.000000  0.523923\n",
       "max    1.000000  1.000000"
      ]
     },
     "execution_count": 5,
     "metadata": {},
     "output_type": "execute_result"
    }
   ],
   "source": [
    "uci_test_acc = pd.read_csv(\"uci_test_acc.csv\", index_col=0)\n",
    "uci_test_acc.describe()"
   ]
  },
  {
   "cell_type": "code",
   "execution_count": 6,
   "id": "twenty-retention",
   "metadata": {},
   "outputs": [
    {
     "data": {
      "image/png": "[encoded data removed]",
      "text/plain": [
       "<Figure size 432x288 with 1 Axes>"
      ]
     },
     "metadata": {
      "needs_background": "light"
     },
     "output_type": "display_data"
    }
   ],
   "source": [
    "uci_test_acc.boxplot()\n",
    "plt.title(\"Porównanie wyników względem topologii.\")\n",
    "plt.show()"
   ]
  },
  {
   "cell_type": "markdown",
   "id": "august-plasma",
   "metadata": {},
   "source": [
    "### Ocena\n",
    "- w przypadku tego zbioru skuteczniejsza okazała się funkcja \"meksykańskiego kapelusza\"\n",
    "- również w przeciwieństwie do MNIST wyższy średni wynik osiągała sieć w topologii sześciokątnej\n",
    "- w przypadku tego zbioru wahania rezultatów były większe\n",
    "- poprawę wyników przyniosłoby z pewnością zwiększenie liczby neuronów w sieciach, lecz ze względów czasochłonności obliczeń uznaję te wyniki za reprezentatywne do analizy wyników sieci i wpływu doboru parametrów"
   ]
  }
 ],
 "metadata": {
  "kernelspec": {
   "display_name": "Python 3",
   "language": "python",
   "name": "python3"
  },
  "language_info": {
   "codemirror_mode": {
    "name": "ipython",
    "version": 3
   },
   "file_extension": ".py",
   "mimetype": "text/x-python",
   "name": "python",
   "nbconvert_exporter": "python",
   "pygments_lexer": "ipython3",
   "version": "3.9.1"
  }
 },
 "nbformat": 4,
 "nbformat_minor": 5
}
