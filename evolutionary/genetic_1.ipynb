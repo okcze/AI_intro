{
 "cells": [
  {
   "cell_type": "markdown",
   "id": "ceramic-treasure",
   "metadata": {},
   "source": [
    "## LAB 9\n",
    "### Podstawowy algorytm ewolucyjny"
   ]
  },
  {
   "cell_type": "code",
   "execution_count": 119,
   "id": "better-johnson",
   "metadata": {},
   "outputs": [],
   "source": [
    "import numpy as np\n",
    "from typing import Callable\n",
    "import random"
   ]
  },
  {
   "cell_type": "code",
   "execution_count": 180,
   "id": "acute-august",
   "metadata": {},
   "outputs": [],
   "source": [
    "class Genetic:\n",
    "    \n",
    "    def __init__(self, \n",
    "                 cost_function: Callable,\n",
    "                 problem_dimension: int,\n",
    "                 n_population: int,\n",
    "                 p_mutation: float,\n",
    "                 p_crossover: float):\n",
    "        \n",
    "        self.cost_function = cost_function\n",
    "        self.problem_dimension = problem_dimension\n",
    "        self.n_population = n_population\n",
    "        self.p_mutation = p_mutation\n",
    "        self.p_crossover = p_crossover\n",
    "        # Initialization of the population\n",
    "        self.population = np.random.uniform(-10, 10, size=(n_population, problem_dimension))\n",
    "        \n",
    "    def fit(self, n_iter):\n",
    "        \"\"\"Execution of genetic algorithm.\n",
    "        \n",
    "        Stop condition: number of iterations.\n",
    "        Crossover: one-point.\n",
    "        Mutation: gaussian.\n",
    "        Selection: binary tournaments, with parents, with replacement.\n",
    "        \"\"\"\n",
    "        \n",
    "        for i in range(n_iter):\n",
    "            # Crossover\n",
    "            size = np.floor(self.p_mutation*self.n_population)\n",
    "            # Even number of individuals for crossover\n",
    "            size = int(size - size%2)\n",
    "            crossover_ids = np.random.choice(range(self.n_population), \n",
    "                                             size=size,\n",
    "                                             replace=False)\n",
    "            children = []\n",
    "            for j in range(0, size-1, 2):\n",
    "                # Switching ceil(half) parts of individuals\n",
    "                point = int(np.ceil(self.problem_dimension/2))\n",
    "                part_1 = self.population[crossover_ids[j]][:point]\n",
    "                part_2 = self.population[crossover_ids[j+1]][point:]\n",
    "                child = np.append(part_1, part_2)\n",
    "                # Possible mutation\n",
    "                if random.random()<self.p_mutation:\n",
    "                    child = child + np.random.normal(size=(self.problem_dimension))\n",
    "                children.append(child)\n",
    "            \n",
    "            # Combinig old and new generations\n",
    "            children = np.array(children)\n",
    "            both = np.append(self.population, children, axis=0)\n",
    "            \n",
    "            # Evaluation\n",
    "            values = []\n",
    "            for x in both:\n",
    "                values.append(self.cost_function(x))\n",
    "            \n",
    "            # Selection\n",
    "            new_population = []\n",
    "            count = 0\n",
    "            while count<self.n_population:\n",
    "                ids = np.random.choice(range(len(both)), \n",
    "                                       size=2, \n",
    "                                       replace=False)\n",
    "                if values[ids[0]]<=values[ids[1]]:\n",
    "                    new_population.append(both[ids[0]])\n",
    "                else:\n",
    "                    new_population.append(both[ids[1]])\n",
    "                count+=1\n",
    "            \n",
    "            self.population = np.array(new_population)\n",
    "            \n",
    "        return (both[np.argmin(values)], np.min(values))"
   ]
  },
  {
   "cell_type": "code",
   "execution_count": 112,
   "id": "automated-marine",
   "metadata": {},
   "outputs": [],
   "source": [
    "def problem1_fun(ind):\n",
    "    return ind[0]**2+ind[1]**2+2*ind[2]**2"
   ]
  },
  {
   "cell_type": "code",
   "execution_count": 185,
   "id": "serial-infrastructure",
   "metadata": {},
   "outputs": [],
   "source": [
    "gen = Genetic(problem1_fun, 3, 200, 0.2, 0.7)"
   ]
  },
  {
   "cell_type": "code",
   "execution_count": 186,
   "id": "boring-practitioner",
   "metadata": {},
   "outputs": [
    {
     "data": {
      "text/plain": [
       "(array([-0.26072084, -0.00247476,  0.06603037]), 0.07670150270029419)"
      ]
     },
     "execution_count": 186,
     "metadata": {},
     "output_type": "execute_result"
    }
   ],
   "source": [
    "gen.fit(50)"
   ]
  }
 ],
 "metadata": {
  "kernelspec": {
   "display_name": "Python 3",
   "language": "python",
   "name": "python3"
  },
  "language_info": {
   "codemirror_mode": {
    "name": "ipython",
    "version": 3
   },
   "file_extension": ".py",
   "mimetype": "text/x-python",
   "name": "python",
   "nbconvert_exporter": "python",
   "pygments_lexer": "ipython3",
   "version": "3.9.1"
  }
 },
 "nbformat": 4,
 "nbformat_minor": 5
}
