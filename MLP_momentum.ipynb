{
 "cells": [
  {
   "cell_type": "markdown",
   "id": "unavailable-indonesia",
   "metadata": {},
   "source": [
    "# PD 3 \n",
    "## Piotr Fic\n",
    "### Import bibliotek"
   ]
  },
  {
   "cell_type": "code",
   "execution_count": 1,
   "id": "hawaiian-weight",
   "metadata": {},
   "outputs": [],
   "source": [
    "import numpy as np\n",
    "from numpy import random\n",
    "import math\n",
    "import pandas as pd\n",
    "import matplotlib.pyplot as plt"
   ]
  },
  {
   "cell_type": "markdown",
   "id": "anticipated-batman",
   "metadata": {},
   "source": [
    "## Funkcje pomocnicze"
   ]
  },
  {
   "cell_type": "code",
   "execution_count": 2,
   "id": "competitive-tuition",
   "metadata": {},
   "outputs": [],
   "source": [
    "def predicted_real(predicted, real):\n",
    "    plt.scatter(real, predicted, c='blue')\n",
    "    p1 = max(max(predicted), max(real))\n",
    "    p2 = min(min(predicted), min(real))\n",
    "    plt.plot([p1, p2], [p1, p2], 'b-')\n",
    "    plt.xlabel('True values')\n",
    "    plt.ylabel('Predictions')\n",
    "    plt.title('Predictions visualization on test set')\n",
    "    plt.axis('equal')\n",
    "    plt.show()\n",
    "    \n",
    "def sigmoid(x):\n",
    "    \"Stabilna funkcja sigmoidalna\"\"\"\n",
    "    if x >= 0:\n",
    "        z = np.exp(-x)\n",
    "        return 1 / (1 + z)\n",
    "    else:\n",
    "        z = np.exp(x)\n",
    "        return z / (1 + z)\n",
    "sigmoid = np.vectorize(sigmoid)\n",
    "\n",
    "def sigmoid_der(x):\n",
    "    \"\"\"Pochodna funkcji sigmoidalnej\"\"\"\n",
    "    return sigmoid(x)*(1-sigmoid(x))\n",
    "sigmoid_der = np.vectorize(sigmoid_der)\n",
    "\n",
    "def MSE(predicted, real):\n",
    "    return np.mean((predicted - real)**2)\n",
    "\n",
    "def MAE(predicted, real):\n",
    "    return np.mean(np.abs(predicted - real))\n",
    "\n",
    "def normalize(x):\n",
    "    return (x - np.min(x)) / (np.max(x) - np.min(x))\n",
    "\n",
    "def prepear_data(df_train, df_test):\n",
    "    #Separacja wektorów cech i odpowiedzi\n",
    "    x_train, x_test = df_train.iloc[:, 1], df_test.iloc[:, 1]\n",
    "    x_train, x_test = np.array(x_train), np.array(x_test)\n",
    "    #Implementacja wymaga \"pionowego\" wektora cech\n",
    "    x_train.shape = (len(x_train), 1)\n",
    "    x_test.shape = (len(x_test), 1)\n",
    "    y_train, y_test = np.array(df_train.iloc[:, 2:3]), np.array(df_test.iloc[:, 2:3])\n",
    "    #Normalizacja\n",
    "    x_train, x_test = normalize(x_train), normalize(x_test)\n",
    "    y_train, y_test = normalize(y_train), normalize(y_test)\n",
    "    #Transpozycja\n",
    "    x_train = x_train.reshape(1, -1)\n",
    "    y_train = y_train.reshape(1,-1)\n",
    "    x_test = x_test.reshape(1,-1)\n",
    "    y_test = y_test.reshape(1,-1)\n",
    "    return x_train, y_train, x_test, y_test\n"
   ]
  },
  {
   "cell_type": "markdown",
   "id": "weighted-laser",
   "metadata": {},
   "source": [
    "## Rozszerzenie implementacji MLP\n",
    " - częściowo zmieniony algorytm propagacji błędu w celu skorzystania z efektywniejszych operacji macierzowych dla całego batcha treningowego\n",
    " - wprowadzenie momentum (parametr \"l_m\") i RSMProp (parametr \"beta\")\n",
    " - domyślne wartości powyższych parametrów ustawione są na 0, mamy wtedy klasyczną wersję MLP"
   ]
  },
  {
   "cell_type": "code",
   "execution_count": 3,
   "id": "advanced-niger",
   "metadata": {},
   "outputs": [],
   "source": [
    "class Layer:\n",
    "        \n",
    "    def __init__(self, \n",
    "                 #Liczba neuronów w poprzedzającej i kolejnej warstwie\n",
    "                 input_size: int, \n",
    "                 output_size: int,\n",
    "                 #Domyślna funkcja aktywacyjna i jej pochodna                 \n",
    "                 activation_fun = sigmoid, \n",
    "                 activation_fun_der = sigmoid_der,\n",
    "                 #Parametry rozkładu jednostajnego dla losowych wag\n",
    "                 lb = -1,\n",
    "                 ub = 1,\n",
    "                 #Możliwe do ustawienia wagi i bias-y\n",
    "                 weights = None, \n",
    "                 biases = None):\n",
    "        \n",
    "        #Domyślne losowo wygenerowane wagi i bias-y jeśli nie zostały podane\n",
    "        d_weights = random.uniform(lb, ub, size = (output_size, input_size))\n",
    "        d_biases = random.uniform(lb, ub, size = (output_size, 1))\n",
    "        \n",
    "        #Wagi dla wszystkich neuronów z warstwy \n",
    "        self.weights = weights if weights is not None else d_weights\n",
    "        \n",
    "        #Stałe \"b\"\n",
    "        self.biases = biases if biases is not None else d_biases\n",
    "        \n",
    "        #Funkcja aktywacji i jej pochodna\n",
    "        self.activation_fun = activation_fun\n",
    "        self.activation_fun_der = activation_fun_der\n",
    "    \n",
    "    def predict(self, input):\n",
    "        #Przekształca input z poprzedniej warstwy przez wagi i funkcję aktywacji \n",
    "        #Zwraca output do przekazania kolejnej warstwie\n",
    "        return self.activation_fun(self.weights@input + self.biases)\n",
    "    \n",
    "    def forward(self, input):\n",
    "        #Przekształca input z poprzedniej warstwy jedynie przez wagi\n",
    "        return self.weights@input + self.biases"
   ]
  },
  {
   "cell_type": "code",
   "execution_count": 4,
   "id": "hired-stress",
   "metadata": {},
   "outputs": [],
   "source": [
    "class Network:\n",
    "    \n",
    "    def __init__(self, layers: list):\n",
    "        \n",
    "        #Warstwy\n",
    "        self.layers = layers\n",
    "        self.momentum_w = [np.zeros(l.weights.shape) for l in layers]\n",
    "        self.momentum_b = [np.zeros(l.biases.shape) for l in layers]\n",
    "        self.g_w = [np.zeros(l.weights.shape) for l in layers]\n",
    "        self.g_b = [np.zeros(l.biases.shape) for l in layers]\n",
    "        \n",
    "    def predict(self, X):\n",
    "        \"\"\"Oblicza output na podstawie danych i parametrów warstw\"\"\"\n",
    "        output = X\n",
    "        for layer in self.layers:\n",
    "            output = layer.predict(output)\n",
    "        return output\n",
    "    \n",
    "    def forward(self, X):\n",
    "        \"\"\"Pełna metoda feedforward\n",
    "        return: sumy, aktywacje\"\"\"\n",
    "        sums = []\n",
    "        activations = [X]\n",
    "        activations_layer = X\n",
    "        for layer in self.layers:\n",
    "            sums_layer = layer.forward(activations_layer)\n",
    "            sums.append(sums_layer)\n",
    "            \n",
    "            activations_layer = layer.activation_fun(sums_layer)\n",
    "            activations.append(activations_layer)\n",
    "            \n",
    "        return sums, activations\n",
    "    \n",
    "    def backprop(self, X, Y):\n",
    "        \"\"\"Propagacja wsteczna błędu\n",
    "        return: gradienty MSE\"\"\"\n",
    "        \n",
    "        #Wyliczenie feedforward obecnymi parametrami\n",
    "        sums, activations = self.forward(X)\n",
    "        \n",
    "        #Macierze na poprawki parametrów\n",
    "        delta_biases = []\n",
    "        delta_weights = []\n",
    "        \n",
    "        n_layers = len(self.layers)\n",
    "        err = [None]*n_layers\n",
    "        #Wyliczenie err ostatniej warstwy\n",
    "        err[-1] = (Y - activations[-1])*self.layers[-1].activation_fun_der(sums[-1])\n",
    "        \n",
    "        #Wyliczenie gradientu MSE po parametrach ostatniej warstwy\n",
    "        #delta_biases[-1] = err\n",
    "        #delta_weights[-1] = activations[-2].transpose()@err\n",
    "        \n",
    "        #Propagacja wsteczna\n",
    "        for i in range(n_layers-2, -1, -1):\n",
    "            act_f_der = self.layers[i].activation_fun_der(sums[i])\n",
    "            err[i] = (self.layers[i+1].weights.transpose()@err[i+1]) * act_f_der \n",
    "            \n",
    "        #Batch size\n",
    "        batch_size = Y.shape[1]\n",
    "        delta_biases = [e@np.ones((batch_size, 1))/float(batch_size) \n",
    "                              for e in err]\n",
    "        delta_weights = [np.dot(e, activations[i].transpose())/float(batch_size) \n",
    "                        for i, e in enumerate(err)]\n",
    "        \n",
    "        return delta_biases, delta_weights\n",
    "    \n",
    "    def train(self, X, Y, \n",
    "              batch_size = 1, \n",
    "              etha = 0.001, \n",
    "              tol = 10**(-6), \n",
    "              n_iter = 500, \n",
    "              #Lambda dla momentum\n",
    "              l_m = 0,\n",
    "              #Beta dla RMSProp\n",
    "              beta = 1,\n",
    "              verbose = False):\n",
    "        \"\"\"Wytrenowuje sieć wybraną metodą minimalizując MSE \n",
    "        na zbiorze walidacyjnym\n",
    "        return: liczba epok (na potrzeby porównań)\"\"\"\n",
    "        if(batch_size==1):\n",
    "            algorithm = self.gd\n",
    "        else:\n",
    "            algorithm = self.batch_gd\n",
    "            \n",
    "        \n",
    "        #Losowość przed podziałem zbioru, ziarno zapewnia identyczną permutację\n",
    "        #w zmiennych objaśnających i zmiennej celu\n",
    "        X = np.copy(x_train)\n",
    "        Y = np.copy(y_train)\n",
    "        random.RandomState(42).shuffle(X)\n",
    "        random.RandomState(42).shuffle(Y)\n",
    "\n",
    "        #Podział zbioru na część walidacyjną i treningową\n",
    "        #proporcje: val 20% - train 80%\n",
    "        X_split = np.split(X, [int(.8 * X.shape[1])], axis=1)\n",
    "        X_train, X_val = X_split[0], X_split[1]\n",
    "\n",
    "        Y_split = np.split(Y, [int(.8 * Y.shape[1])], axis=1)\n",
    "        Y_train, Y_val = Y_split[0], Y_split[1]\n",
    "        \n",
    "        #Właściwe trenowanie sieci\n",
    "        current_mse = np.inf\n",
    "        new_mse = MSE(self.predict(X_val), Y_val)\n",
    "        it = 1\n",
    "        while True:\n",
    "            #Wywołanie konkretnego algorytmu\n",
    "            algorithm(X_train, Y_train, batch_size, etha, l_m, beta)\n",
    "            new_mse = MSE(self.predict(X_val), Y_val)\n",
    "            \n",
    "            #Wizualizacja procesu uczenia\n",
    "            if(verbose):\n",
    "                print(\"Epoche \" + str(it) + \" finished\")\n",
    "                print(\"Current MSE on validation set:\")\n",
    "                print(new_mse)\n",
    "                for i in range(len(self.layers)):\n",
    "                    print(\"Warstwa \" + str(i) + \" wagi:\")\n",
    "                    print(self.layers[i].weights)\n",
    "                    print(\"Warstwa \" + str(i) + \" bias-y:\")\n",
    "                    print(self.layers[i].biases)\n",
    "                print(\"\\n\")\n",
    "            \n",
    "            it += 1\n",
    "            if(it == n_iter):\n",
    "                break\n",
    "            elif(current_mse - new_mse > tol):\n",
    "                current_mse = new_mse\n",
    "            else:\n",
    "                break\n",
    "            \n",
    "        return it\n",
    "    \n",
    "    def gd(self, X, Y, etha, l_m, beta):\n",
    "        \"\"\"Trening sieci podstawową metodą Gradient Descent\"\"\"\n",
    "        b, w = self.backprop(X, Y)\n",
    "        for i in range(len(self.layers)):\n",
    "            #Aktualizacja momentum\n",
    "            self.momentum_w[i] = w[i]+l_m*self.momentum_w[i]\n",
    "            self.momentum_b[i] = b[i]+l_m*self.momentum_b[i]\n",
    "            \n",
    "            #Aktualizacja RMSProp\n",
    "            self.g_w[i] = (1-beta)*w[i]*w[i]+beta*self.g_w[i]\n",
    "            self.g_b[i] = (1-beta)*b[i]*b[i]+beta*self.g_b[i]\n",
    "        \n",
    "            l = self.layers[i]\n",
    "            if(beta):\n",
    "                l.biases = l.biases + etha*self.momentum_b[i] + (etha*b[i])/np.sqrt(0.00001+self.g_b[i]) \n",
    "                l.weights = l.weights + etha*self.momentum_w[i] + (etha*w[i])/np.sqrt(0.00001+self.g_w[i])\n",
    "            else:\n",
    "                l.biases = l.biases + etha*self.momentum_b[i]\n",
    "                l.weights = l.weights + etha*self.momentum_w[i]\n",
    "            \n",
    "        return\n",
    "    \n",
    "    def batch_gd(self, X, Y, batch_size, etha, l_m, beta):\n",
    "        \"\"\"Trening sieci metodą Mini-batch Gradient Descent\"\"\"\n",
    "        #Metoda train uprzednio dokonuje permutacji zbioru\n",
    "        #Wywołanie metody gradient descent na kolejnych batch-ach\n",
    "        i=0\n",
    "        while(i<len(Y)):\n",
    "            x = X[i:i+batch_size]\n",
    "            y = Y[i:i+batch_size]\n",
    "            i += batch_size\n",
    "            self.gd(x, y, etha, l_m, beta)\n",
    "        return\n",
    "        "
   ]
  },
  {
   "cell_type": "markdown",
   "id": "hydraulic-unemployment",
   "metadata": {},
   "source": [
    "## Eksperyment porównawczy\n",
    "Zbiory danych: 3 podane w treści PD."
   ]
  },
  {
   "cell_type": "code",
   "execution_count": 5,
   "id": "married-version",
   "metadata": {},
   "outputs": [],
   "source": [
    "df1_train = pd.read_csv(\"./mio1/regression/square-large-training.csv\")\n",
    "df1_test = pd.read_csv(\"./mio1/regression/square-large-test.csv\")\n",
    "\n",
    "df2_train = pd.read_csv(\"./mio1/regression/steps-large-training.csv\")\n",
    "df2_test = pd.read_csv(\"./mio1/regression/steps-large-test.csv\")\n",
    "\n",
    "df3_train = pd.read_csv(\"./mio1/regression/multimodal-large-training.csv\")\n",
    "df3_test = pd.read_csv(\"./mio1/regression/multimodal-large-test.csv\")"
   ]
  },
  {
   "cell_type": "markdown",
   "id": "studied-mongolia",
   "metadata": {},
   "source": [
    "### Architektury sieci\n",
    " - 1x warstwa ukryta (5 neuronów)\n",
    " - 1x warstwa ukryta (10 neuronów)"
   ]
  },
  {
   "cell_type": "code",
   "execution_count": 6,
   "id": "varying-montreal",
   "metadata": {},
   "outputs": [],
   "source": [
    "#Te same koncepcje co w PD1-PD2\n",
    "#Architektura 1\n",
    "def arch1(lb = -1, ub = 1):\n",
    "    l1_1 = Layer(input_size=1, output_size=5, lb = -1, ub = 1)\n",
    "    l1_2 = Layer(input_size=5, output_size=1, lb = -1, ub = 1, \n",
    "               activation_fun= lambda x: x, \n",
    "               activation_fun_der= lambda x: 1)          \n",
    "    return Network([l1_1, l1_2])\n",
    "    \n",
    "#Architektura 2\n",
    "def arch2(lb = -1, ub = 1):\n",
    "    l2_1 = Layer(1, 10, lb = -1, ub = 1)\n",
    "    l2_2 = Layer(10, 1, lb = -1, ub = 1, \n",
    "                 activation_fun= lambda x: x, \n",
    "                 activation_fun_der= lambda x: 1)\n",
    "    return Network([l2_1, l2_2])"
   ]
  },
  {
   "cell_type": "code",
   "execution_count": 18,
   "id": "rapid-valuable",
   "metadata": {},
   "outputs": [],
   "source": [
    "data_train = [df1_train, df2_train, df3_train]\n",
    "data_test = [df1_test, df2_test, df3_test]"
   ]
  },
  {
   "cell_type": "markdown",
   "id": "broken-culture",
   "metadata": {},
   "source": [
    "### Obliczenia\n",
    " - ograniczenie liczby epok do niższej niż zwykle: 100\n",
    " - wytrenowanie sieci na zbiorach i obliczenie MSE na części testowej\n",
    " - spodziewane wyniki: wykorzystanie momentum i RMSProp powinno skutkować osiągnięciem lepszego dopasowania szybciej niż przy klasycznym MLP, czyli przy założonych 100 epokach spodziewamy się niższego MSE"
   ]
  },
  {
   "cell_type": "code",
   "execution_count": 24,
   "id": "comparative-natural",
   "metadata": {},
   "outputs": [
    {
     "name": "stdout",
     "output_type": "stream",
     "text": [
      "Iteration: 0\n",
      "Iteration: 1\n",
      "DF 1 finished\n",
      "Iteration: 0\n",
      "Iteration: 1\n",
      "DF 2 finished\n",
      "Iteration: 0\n",
      "Iteration: 1\n",
      "DF 3 finished\n"
     ]
    }
   ],
   "source": [
    "r1 = np.zeros((3, 3))\n",
    "r2 = np.zeros((3, 3))\n",
    "\n",
    "j = 0\n",
    "for df_train, df_test in zip(data_train, data_test):\n",
    "    x_train, y_train, x_test, y_test = prepear_data(df_train, df_test)\n",
    "    #Wykonam po n procesów trenowania sieci i uśrednię liczbę epok\n",
    "    n = 2\n",
    "    ep1 = np.zeros((n, 3))\n",
    "    ep2 = np.zeros((n, 3))\n",
    "        \n",
    "    for i in range(n):\n",
    "        mlp1 = arch1()\n",
    "        mlp2 = arch2()\n",
    "        \n",
    "        #no momentum - no rsmprop\n",
    "        mlp1.train(x_train, y_train, l_m = 0, beta = 0, tol=10**(-6), n_iter=100, batch_size=20, etha=0.01)\n",
    "        mlp2.train(x_train, y_train, l_m = 0, beta = 0, tol=10**(-6), n_iter=100, batch_size=20, etha=0.01)\n",
    "        ep1[i][0] = MSE(mlp1.predict(x_test), y_test)\n",
    "        ep2[i][0] = MSE(mlp2.predict(x_test), y_test)\n",
    "        \n",
    "        \n",
    "        mlp1 = arch1()\n",
    "        mlp2 = arch2()\n",
    "        \n",
    "        #momentum\n",
    "        mlp1.train(x_train, y_train, l_m = 0.9, beta = 0, tol=10**(-6), n_iter=100, batch_size=20, etha=0.001)\n",
    "        mlp2.train(x_train, y_train, l_m = 0.9, beta = 0, tol=10**(-6), n_iter=100, batch_size=20, etha=0.001)\n",
    "        ep1[i][1] = MSE(mlp1.predict(x_test), y_test)\n",
    "        ep2[i][1] = MSE(mlp2.predict(x_test), y_test)\n",
    "        \n",
    "        \n",
    "        mlp1 = arch1()\n",
    "        mlp2 = arch2()\n",
    "        \n",
    "        #rmsprop\n",
    "        mlp1.train(x_train, y_train, l_m = 0, beta = 0.99, tol=10**(-6), n_iter=100, batch_size=20, etha=0.1)\n",
    "        mlp2.train(x_train, y_train, l_m = 0, beta = 0.99, tol=10**(-6), n_iter=100, batch_size=20, etha=0.1)\n",
    "        ep1[i][2] = MSE(mlp1.predict(x_test), y_test)\n",
    "        ep2[i][2] = MSE(mlp2.predict(x_test), y_test)\n",
    "        \n",
    "        \n",
    "        print(\"Iteration: \" + str(i))\n",
    "    \n",
    "    r1[j] = np.mean(ep1, axis=0)\n",
    "    r2[j] = np.mean(ep2, axis=0)\n",
    "    \n",
    "    j+=1\n",
    "    print(\"DF \" + str(j) + \" finished\")"
   ]
  },
  {
   "cell_type": "code",
   "execution_count": 21,
   "id": "hourly-interpretation",
   "metadata": {},
   "outputs": [],
   "source": [
    "def res_plot(r):\n",
    "    plt.plot([\"df1\", \"df2\", \"df3\"], r.transpose()[0], label = \"plain\")\n",
    "    plt.plot(r.transpose()[1], label = \"momentum\")\n",
    "    plt.plot(r.transpose()[2], label = \"RMSProp\")\n",
    "    plt.legend()\n",
    "    plt.ylabel(\"średnie MSE\")"
   ]
  },
  {
   "cell_type": "markdown",
   "id": "cooperative-default",
   "metadata": {},
   "source": [
    "### Wyniki - architektura nr 1"
   ]
  },
  {
   "cell_type": "code",
   "execution_count": 25,
   "id": "vocal-typing",
   "metadata": {},
   "outputs": [
    {
     "data": {
      "image/png": "[encoded data removed]",
      "text/plain": [
       "<Figure size 432x288 with 1 Axes>"
      ]
     },
     "metadata": {
      "needs_background": "light"
     },
     "output_type": "display_data"
    }
   ],
   "source": [
    "res_plot(r1)"
   ]
  },
  {
   "cell_type": "markdown",
   "id": "aerial-hunger",
   "metadata": {},
   "source": [
    "### Wyniki - architektura nr 2"
   ]
  },
  {
   "cell_type": "code",
   "execution_count": 26,
   "id": "welsh-bradley",
   "metadata": {},
   "outputs": [
    {
     "data": {
      "image/png": "[encoded data removed]",
      "text/plain": [
       "<Figure size 432x288 with 1 Axes>"
      ]
     },
     "metadata": {
      "needs_background": "light"
     },
     "output_type": "display_data"
    }
   ],
   "source": [
    "res_plot(r2)"
   ]
  },
  {
   "cell_type": "markdown",
   "id": "optional-fleet",
   "metadata": {},
   "source": [
    "## Wnioski\n",
    " - widzimy znaczącą korzyść z wykorzystania RMSProp\n",
    " - nie udało się w pełni potwierdzić przydatności momentum, jest to najpewniej spowodowane gorzej dobranymi parametrami\n",
    " - pojedyncze próby poza eksperymentem pozwolały zaobserwować przyspieszenie zbieżności przy korzystaniu z momentum"
   ]
  }
 ],
 "metadata": {
  "kernelspec": {
   "display_name": "Python 3",
   "language": "python",
   "name": "python3"
  },
  "language_info": {
   "codemirror_mode": {
    "name": "ipython",
    "version": 3
   },
   "file_extension": ".py",
   "mimetype": "text/x-python",
   "name": "python",
   "nbconvert_exporter": "python",
   "pygments_lexer": "ipython3",
   "version": "3.9.1"
  }
 },
 "nbformat": 4,
 "nbformat_minor": 5
}
